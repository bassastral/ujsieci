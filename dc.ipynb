{
  "nbformat": 4,
  "nbformat_minor": 0,
  "metadata": {
    "colab": {
      "name": "Untitled2.ipynb",
      "provenance": [],
      "authorship_tag": "ABX9TyPRXUtKCF3noUzbecJfv61e",
      "include_colab_link": true
    },
    "kernelspec": {
      "name": "python3",
      "display_name": "Python 3"
    }
  },
  "cells": [
    {
      "cell_type": "markdown",
      "metadata": {
        "id": "view-in-github",
        "colab_type": "text"
      },
      "source": [
        "<a href=\"https://colab.research.google.com/github/bassastral/ujsieci/blob/master/dc.ipynb\" target=\"_parent\"><img src=\"https://colab.research.google.com/assets/colab-badge.svg\" alt=\"Open In Colab\"/></a>"
      ]
    },
    {
      "cell_type": "code",
      "metadata": {
        "id": "XRPPH2Osi8W2",
        "colab_type": "code",
        "colab": {}
      },
      "source": [
        ""
      ],
      "execution_count": 0,
      "outputs": []
    },
    {
      "cell_type": "code",
      "metadata": {
        "id": "nuRwyKrajEed",
        "colab_type": "code",
        "colab": {}
      },
      "source": [
        " Pirates = [\"The Curse of the Black Pearl\", \"Dead Man's Chest\", \"At World's End\"] "
      ],
      "execution_count": 0,
      "outputs": []
    },
    {
      "cell_type": "markdown",
      "metadata": {
        "id": "kxOFcznUjDAd",
        "colab_type": "text"
      },
      "source": [
        ""
      ]
    },
    {
      "cell_type": "code",
      "metadata": {
        "id": "sJ2dnGwTjbX3",
        "colab_type": "code",
        "colab": {}
      },
      "source": [
        "Pirates = [\"The Curse of the Black Pearl\", \"Dead Man's Chest\", \"At World's End\"]  "
      ],
      "execution_count": 0,
      "outputs": []
    },
    {
      "cell_type": "code",
      "metadata": {
        "id": "2EBr4Dq2jufi",
        "colab_type": "code",
        "colab": {
          "base_uri": "https://localhost:8080/",
          "height": 34
        },
        "outputId": "ffcc3a78-1e46-4633-eb1f-aa46700b279b"
      },
      "source": [
        "Pirates"
      ],
      "execution_count": 5,
      "outputs": [
        {
          "output_type": "execute_result",
          "data": {
            "text/plain": [
              "['The Curse of the Black Pearl', \"Dead Man's Chest\", \"At World's End\"]"
            ]
          },
          "metadata": {
            "tags": []
          },
          "execution_count": 5
        }
      ]
    },
    {
      "cell_type": "code",
      "metadata": {
        "id": "LeeqrCJuj5QH",
        "colab_type": "code",
        "colab": {
          "base_uri": "https://localhost:8080/",
          "height": 34
        },
        "outputId": "bedcc46f-2f9f-4e2c-cc58-2af2f6091768"
      },
      "source": [
        "# liczba elementów z listy \n",
        "len (Pirates)"
      ],
      "execution_count": 6,
      "outputs": [
        {
          "output_type": "execute_result",
          "data": {
            "text/plain": [
              "3"
            ]
          },
          "metadata": {
            "tags": []
          },
          "execution_count": 6
        }
      ]
    },
    {
      "cell_type": "code",
      "metadata": {
        "id": "D-uYd5KGkGtP",
        "colab_type": "code",
        "colab": {
          "base_uri": "https://localhost:8080/",
          "height": 34
        },
        "outputId": "e22b94a7-a83c-444e-a233-f03c1acc8eba"
      },
      "source": [
        "Pirates"
      ],
      "execution_count": 7,
      "outputs": [
        {
          "output_type": "execute_result",
          "data": {
            "text/plain": [
              "['The Curse of the Black Pearl', \"Dead Man's Chest\", \"At World's End\"]"
            ]
          },
          "metadata": {
            "tags": []
          },
          "execution_count": 7
        }
      ]
    },
    {
      "cell_type": "code",
      "metadata": {
        "id": "C-ijOlA8kWuz",
        "colab_type": "code",
        "colab": {
          "base_uri": "https://localhost:8080/",
          "height": 34
        },
        "outputId": "2c83f48a-b7e8-423f-f9d5-f6ab6b464106"
      },
      "source": [
        "# append dodaje na końcu\n",
        "Pirates.append "
      ],
      "execution_count": 8,
      "outputs": [
        {
          "output_type": "execute_result",
          "data": {
            "text/plain": [
              "<function list.append>"
            ]
          },
          "metadata": {
            "tags": []
          },
          "execution_count": 8
        }
      ]
    },
    {
      "cell_type": "code",
      "metadata": {
        "id": "IaJEewDnkg2b",
        "colab_type": "code",
        "colab": {
          "base_uri": "https://localhost:8080/",
          "height": 34
        },
        "outputId": "3236f7e9-da0d-4a8d-d150-0b5a91b29162"
      },
      "source": [
        "Pirates\n"
      ],
      "execution_count": 9,
      "outputs": [
        {
          "output_type": "execute_result",
          "data": {
            "text/plain": [
              "['The Curse of the Black Pearl', \"Dead Man's Chest\", \"At World's End\"]"
            ]
          },
          "metadata": {
            "tags": []
          },
          "execution_count": 9
        }
      ]
    },
    {
      "cell_type": "code",
      "metadata": {
        "id": "zIUMj6vAkt2O",
        "colab_type": "code",
        "colab": {}
      },
      "source": [
        "Pirates.append(\"takatka\")"
      ],
      "execution_count": 0,
      "outputs": []
    },
    {
      "cell_type": "code",
      "metadata": {
        "id": "ujgIVTxKk5QO",
        "colab_type": "code",
        "colab": {
          "base_uri": "https://localhost:8080/",
          "height": 85
        },
        "outputId": "bce7b5e2-eaea-4820-f25c-fe3f70a2d59a"
      },
      "source": [
        "Pirates"
      ],
      "execution_count": 11,
      "outputs": [
        {
          "output_type": "execute_result",
          "data": {
            "text/plain": [
              "['The Curse of the Black Pearl',\n",
              " \"Dead Man's Chest\",\n",
              " \"At World's End\",\n",
              " 'takatka']"
            ]
          },
          "metadata": {
            "tags": []
          },
          "execution_count": 11
        }
      ]
    },
    {
      "cell_type": "code",
      "metadata": {
        "id": "OneZNd5Ck6_s",
        "colab_type": "code",
        "colab": {}
      },
      "source": [
        "# insert dodajemy gdzie chcemy \n",
        "Pirates.insert(1,\"pies\")"
      ],
      "execution_count": 0,
      "outputs": []
    },
    {
      "cell_type": "code",
      "metadata": {
        "id": "MfbJGca_lDK3",
        "colab_type": "code",
        "colab": {
          "base_uri": "https://localhost:8080/",
          "height": 102
        },
        "outputId": "b62cd50a-94fb-4fe0-e5e0-0170ab1aa1dd"
      },
      "source": [
        "Pirates"
      ],
      "execution_count": 14,
      "outputs": [
        {
          "output_type": "execute_result",
          "data": {
            "text/plain": [
              "['The Curse of the Black Pearl',\n",
              " 'pies',\n",
              " \"Dead Man's Chest\",\n",
              " \"At World's End\",\n",
              " 'takatka']"
            ]
          },
          "metadata": {
            "tags": []
          },
          "execution_count": 14
        }
      ]
    },
    {
      "cell_type": "code",
      "metadata": {
        "id": "kVaOHFe1lMrI",
        "colab_type": "code",
        "colab": {
          "base_uri": "https://localhost:8080/",
          "height": 34
        },
        "outputId": "fbac0338-30f3-4914-df81-9e185f8f1845"
      },
      "source": [
        "Pirates[1]"
      ],
      "execution_count": 15,
      "outputs": [
        {
          "output_type": "execute_result",
          "data": {
            "text/plain": [
              "'pies'"
            ]
          },
          "metadata": {
            "tags": []
          },
          "execution_count": 15
        }
      ]
    },
    {
      "cell_type": "code",
      "metadata": {
        "id": "KEnxAaJ0lgP3",
        "colab_type": "code",
        "colab": {
          "base_uri": "https://localhost:8080/",
          "height": 34
        },
        "outputId": "49ca97dd-206d-4ba8-9955-2170217e5cab"
      },
      "source": [
        "Pirates.index(\"pies\")"
      ],
      "execution_count": 16,
      "outputs": [
        {
          "output_type": "execute_result",
          "data": {
            "text/plain": [
              "1"
            ]
          },
          "metadata": {
            "tags": []
          },
          "execution_count": 16
        }
      ]
    },
    {
      "cell_type": "code",
      "metadata": {
        "id": "AtTsK_7dl1Zw",
        "colab_type": "code",
        "colab": {
          "base_uri": "https://localhost:8080/",
          "height": 163
        },
        "outputId": "cda9d505-79c0-4b74-c1da-6febb92a8710"
      },
      "source": [
        "Pirates.index(\"kot\")"
      ],
      "execution_count": 17,
      "outputs": [
        {
          "output_type": "error",
          "ename": "ValueError",
          "evalue": "ignored",
          "traceback": [
            "\u001b[0;31m---------------------------------------------------------------------------\u001b[0m",
            "\u001b[0;31mValueError\u001b[0m                                Traceback (most recent call last)",
            "\u001b[0;32m<ipython-input-17-2e83a59f5500>\u001b[0m in \u001b[0;36m<module>\u001b[0;34m()\u001b[0m\n\u001b[0;32m----> 1\u001b[0;31m \u001b[0mPirates\u001b[0m\u001b[0;34m.\u001b[0m\u001b[0mindex\u001b[0m\u001b[0;34m(\u001b[0m\u001b[0;34m\"kot\"\u001b[0m\u001b[0;34m)\u001b[0m\u001b[0;34m\u001b[0m\u001b[0;34m\u001b[0m\u001b[0m\n\u001b[0m",
            "\u001b[0;31mValueError\u001b[0m: 'kot' is not in list"
          ]
        }
      ]
    },
    {
      "cell_type": "code",
      "metadata": {
        "id": "x9caYDcdl55B",
        "colab_type": "code",
        "colab": {
          "base_uri": "https://localhost:8080/",
          "height": 34
        },
        "outputId": "6b9b5f4f-4439-455c-e8f0-92d162532574"
      },
      "source": [
        "\"The Curse of the Black Pearl\" in Pirates\n"
      ],
      "execution_count": 19,
      "outputs": [
        {
          "output_type": "execute_result",
          "data": {
            "text/plain": [
              "True"
            ]
          },
          "metadata": {
            "tags": []
          },
          "execution_count": 19
        }
      ]
    },
    {
      "cell_type": "code",
      "metadata": {
        "id": "CwRv89IjmLCU",
        "colab_type": "code",
        "colab": {
          "base_uri": "https://localhost:8080/",
          "height": 34
        },
        "outputId": "9d6647be-3f97-4ec2-9384-44d7eef2cb1a"
      },
      "source": [
        "type(Pirates)"
      ],
      "execution_count": 20,
      "outputs": [
        {
          "output_type": "execute_result",
          "data": {
            "text/plain": [
              "list"
            ]
          },
          "metadata": {
            "tags": []
          },
          "execution_count": 20
        }
      ]
    },
    {
      "cell_type": "code",
      "metadata": {
        "id": "3OskfSQZmySr",
        "colab_type": "code",
        "colab": {
          "base_uri": "https://localhost:8080/",
          "height": 51
        },
        "outputId": "b6dc289d-9935-4c6d-a663-9dfa0c21ff68"
      },
      "source": [
        "x = input(\"Podaj swoje imię: \")\n",
        "print(\"Hello, \" + x)\n"
      ],
      "execution_count": 21,
      "outputs": [
        {
          "output_type": "stream",
          "text": [
            "Podaj swoje imię: JA\n",
            "Hello, JA\n"
          ],
          "name": "stdout"
        }
      ]
    },
    {
      "cell_type": "code",
      "metadata": {
        "id": "Vg97yLTenhuU",
        "colab_type": "code",
        "colab": {
          "base_uri": "https://localhost:8080/",
          "height": 34
        },
        "outputId": "33d7efe9-a5bb-4f07-fd0a-af62410da3bc"
      },
      "source": [
        "#definiuję listę\n",
        "org = [\"Dog Rescue\", \"Animal Patrol\", \"Straż Ochrony Zwierząt Animax\"]\n",
        "print(org)\n",
        "\n"
      ],
      "execution_count": 22,
      "outputs": [
        {
          "output_type": "stream",
          "text": [
            "['Dog Rescue', 'Animal Patrol', 'Straż Ochrony Zwierząt Animax']\n"
          ],
          "name": "stdout"
        }
      ]
    },
    {
      "cell_type": "code",
      "metadata": {
        "id": "o5GDgcn4n1IR",
        "colab_type": "code",
        "colab": {
          "base_uri": "https://localhost:8080/",
          "height": 71
        },
        "outputId": "62b1572c-07e4-4db9-ce68-fc6621bdf51d"
      },
      "source": [
        "x = input(\"Podaj nazwę organizacji prozwierzęcej, aby sprawdzić, czy znajduje się na liście \")\n",
        "\n",
        "if x in org:\n",
        "    print(x,\" jest na liście organizacji\")\n",
        "else:\n",
        "    print(x, \"nie ma na liście organizacji\")\n",
        "\n"
      ],
      "execution_count": 23,
      "outputs": [
        {
          "output_type": "stream",
          "text": [
            "Podaj nazwę organizacji prozwierzęcej, aby sprawdzić, czy znajduje się na liście Animal Patrlo \n",
            "Animal Patrlo  nie ma na liście organizacji\n"
          ],
          "name": "stdout"
        }
      ]
    },
    {
      "cell_type": "code",
      "metadata": {
        "id": "iXDKEPbEoJ1I",
        "colab_type": "code",
        "colab": {
          "base_uri": "https://localhost:8080/",
          "height": 71
        },
        "outputId": "5990cefa-689f-41c6-9e10-9e28e4bb4de4"
      },
      "source": [
        "x = input(\"Podaj nazwę organizacji prozwierzęcej, aby sprawdzić, czy znajduje się na liście \")\n",
        "\n",
        "if x in org:\n",
        "    print(x,\" jest na liście organizacji\")\n",
        "else:\n",
        "    print(x, \"nie ma na liście organizacji\")"
      ],
      "execution_count": 24,
      "outputs": [
        {
          "output_type": "stream",
          "text": [
            "Podaj nazwę organizacji prozwierzęcej, aby sprawdzić, czy znajduje się na liście Animal Patrol\n",
            "Animal Patrol  jest na liście organizacji\n"
          ],
          "name": "stdout"
        }
      ]
    },
    {
      "cell_type": "code",
      "metadata": {
        "id": "42pzHRHjofYc",
        "colab_type": "code",
        "colab": {}
      },
      "source": [
        "DC = [\"Green Arrow\", \"Flash\", \"Iron Man\", \"Batman\"]"
      ],
      "execution_count": 0,
      "outputs": []
    },
    {
      "cell_type": "code",
      "metadata": {
        "id": "QEouFuIMpUTL",
        "colab_type": "code",
        "colab": {
          "base_uri": "https://localhost:8080/",
          "height": 34
        },
        "outputId": "b967f015-15e9-4ca2-8785-c5c71ce36913"
      },
      "source": [
        "print(DC)"
      ],
      "execution_count": 26,
      "outputs": [
        {
          "output_type": "stream",
          "text": [
            "['Green Arrow', 'Flash', 'Iron Man', 'Batman']\n"
          ],
          "name": "stdout"
        }
      ]
    },
    {
      "cell_type": "code",
      "metadata": {
        "id": "qUJRlBvCpYKa",
        "colab_type": "code",
        "colab": {
          "base_uri": "https://localhost:8080/",
          "height": 34
        },
        "outputId": "d937986f-d545-480f-8505-c06904ce8da1"
      },
      "source": [
        "len(DC)"
      ],
      "execution_count": 27,
      "outputs": [
        {
          "output_type": "execute_result",
          "data": {
            "text/plain": [
              "4"
            ]
          },
          "metadata": {
            "tags": []
          },
          "execution_count": 27
        }
      ]
    },
    {
      "cell_type": "code",
      "metadata": {
        "id": "VakA7pCcpaVj",
        "colab_type": "code",
        "colab": {
          "base_uri": "https://localhost:8080/",
          "height": 34
        },
        "outputId": "40d935e2-f9fd-4182-ed9a-b2af075a5401"
      },
      "source": [
        "DC.index(\"Iron Man\")"
      ],
      "execution_count": 28,
      "outputs": [
        {
          "output_type": "execute_result",
          "data": {
            "text/plain": [
              "2"
            ]
          },
          "metadata": {
            "tags": []
          },
          "execution_count": 28
        }
      ]
    },
    {
      "cell_type": "code",
      "metadata": {
        "id": "FCYggo-PppQw",
        "colab_type": "code",
        "colab": {}
      },
      "source": [
        "DC.remove(\"Iron Man\")"
      ],
      "execution_count": 0,
      "outputs": []
    },
    {
      "cell_type": "code",
      "metadata": {
        "id": "VCflqZXLpxz1",
        "colab_type": "code",
        "colab": {
          "base_uri": "https://localhost:8080/",
          "height": 34
        },
        "outputId": "1721e434-a86d-408c-d691-58f80d44f1c9"
      },
      "source": [
        "print(DC)"
      ],
      "execution_count": 30,
      "outputs": [
        {
          "output_type": "stream",
          "text": [
            "['Green Arrow', 'Flash', 'Batman']\n"
          ],
          "name": "stdout"
        }
      ]
    },
    {
      "cell_type": "code",
      "metadata": {
        "id": "NIBGjTxfp0Ya",
        "colab_type": "code",
        "colab": {
          "base_uri": "https://localhost:8080/",
          "height": 34
        },
        "outputId": "8be8b9e0-452c-4d7c-ffea-9d96b4d5750d"
      },
      "source": [
        "len(DC)"
      ],
      "execution_count": 31,
      "outputs": [
        {
          "output_type": "execute_result",
          "data": {
            "text/plain": [
              "3"
            ]
          },
          "metadata": {
            "tags": []
          },
          "execution_count": 31
        }
      ]
    },
    {
      "cell_type": "code",
      "metadata": {
        "id": "U8NF9aZ1p3ZM",
        "colab_type": "code",
        "colab": {}
      },
      "source": [
        "DC.append(\"Superman\")"
      ],
      "execution_count": 0,
      "outputs": []
    },
    {
      "cell_type": "code",
      "metadata": {
        "id": "KWyudqJDp8ak",
        "colab_type": "code",
        "colab": {
          "base_uri": "https://localhost:8080/",
          "height": 34
        },
        "outputId": "75015d91-4c21-4c14-c3e4-04d3f88b94c4"
      },
      "source": [
        "print(DC)"
      ],
      "execution_count": 33,
      "outputs": [
        {
          "output_type": "stream",
          "text": [
            "['Green Arrow', 'Flash', 'Batman', 'Superman']\n"
          ],
          "name": "stdout"
        }
      ]
    },
    {
      "cell_type": "code",
      "metadata": {
        "id": "ter7oATJp_yY",
        "colab_type": "code",
        "colab": {}
      },
      "source": [
        "DC.insert(3, \"Joker\")"
      ],
      "execution_count": 0,
      "outputs": []
    },
    {
      "cell_type": "code",
      "metadata": {
        "id": "w09wZJIzqFCL",
        "colab_type": "code",
        "colab": {
          "base_uri": "https://localhost:8080/",
          "height": 34
        },
        "outputId": "853464b8-8ad7-4b00-dbf8-ce8388c6f1d2"
      },
      "source": [
        "print(DC)"
      ],
      "execution_count": 35,
      "outputs": [
        {
          "output_type": "stream",
          "text": [
            "['Green Arrow', 'Flash', 'Batman', 'Joker', 'Superman']\n"
          ],
          "name": "stdout"
        }
      ]
    },
    {
      "cell_type": "code",
      "metadata": {
        "id": "OtXRMOxEqIDg",
        "colab_type": "code",
        "colab": {
          "base_uri": "https://localhost:8080/",
          "height": 34
        },
        "outputId": "4c41c103-ca34-4592-afa8-8111ab1b7c29"
      },
      "source": [
        "if \"Green Arrow\" in DC:\n",
        "  DC.append(\"Black Canary\")\n",
        "  print(DC)\n",
        "else:\n",
        "  print(\"nie ma Green Arrowa\")"
      ],
      "execution_count": 36,
      "outputs": [
        {
          "output_type": "stream",
          "text": [
            "['Green Arrow', 'Flash', 'Batman', 'Joker', 'Superman', 'Black Canary']\n"
          ],
          "name": "stdout"
        }
      ]
    },
    {
      "cell_type": "code",
      "metadata": {
        "id": "k54Cn2yPqxvv",
        "colab_type": "code",
        "colab": {}
      },
      "source": [
        ""
      ],
      "execution_count": 0,
      "outputs": []
    }
  ]
}