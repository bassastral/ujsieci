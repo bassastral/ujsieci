{
  "nbformat": 4,
  "nbformat_minor": 0,
  "metadata": {
    "colab": {
      "name": "Untitled3.ipynb",
      "provenance": [],
      "authorship_tag": "ABX9TyMAltOjxed3l3JWgzIh9hjL",
      "include_colab_link": true
    },
    "kernelspec": {
      "name": "python3",
      "display_name": "Python 3"
    }
  },
  "cells": [
    {
      "cell_type": "markdown",
      "metadata": {
        "id": "view-in-github",
        "colab_type": "text"
      },
      "source": [
        "<a href=\"https://colab.research.google.com/github/bassastral/ujsieci/blob/master/zadania_ze_zbiorow_i_slownikow2.ipynb\" target=\"_parent\"><img src=\"https://colab.research.google.com/assets/colab-badge.svg\" alt=\"Open In Colab\"/></a>"
      ]
    },
    {
      "cell_type": "code",
      "metadata": {
        "id": "0GgcuOmFjYeo",
        "colab_type": "code",
        "colab": {
          "base_uri": "https://localhost:8080/",
          "height": 52
        },
        "outputId": "9e9218b8-5c4f-44b1-bb1e-67327c7489f4"
      },
      "source": [
        "games_set = set([\"Gwent\", \"Hosts\", \"Wolf Among US\", \"HS\"])\n",
        "print(games_set)\n",
        "len(games_set)"
      ],
      "execution_count": 5,
      "outputs": [
        {
          "output_type": "stream",
          "text": [
            "{'Wolf Among US', 'HS', 'Hosts', 'Gwent'}\n"
          ],
          "name": "stdout"
        },
        {
          "output_type": "execute_result",
          "data": {
            "text/plain": [
              "4"
            ]
          },
          "metadata": {
            "tags": []
          },
          "execution_count": 5
        }
      ]
    },
    {
      "cell_type": "code",
      "metadata": {
        "id": "MiJkUw7Hj3sj",
        "colab_type": "code",
        "colab": {
          "base_uri": "https://localhost:8080/",
          "height": 34
        },
        "outputId": "39b6a28a-e720-4d32-bb49-d609e0bce707"
      },
      "source": [
        "\"HS\" in games_set"
      ],
      "execution_count": 7,
      "outputs": [
        {
          "output_type": "execute_result",
          "data": {
            "text/plain": [
              "True"
            ]
          },
          "metadata": {
            "tags": []
          },
          "execution_count": 7
        }
      ]
    },
    {
      "cell_type": "code",
      "metadata": {
        "id": "D2xMjLQUkxxJ",
        "colab_type": "code",
        "colab": {
          "base_uri": "https://localhost:8080/",
          "height": 34
        },
        "outputId": "3e7a2e7a-3ada-419d-d3c7-f8260eb67cd7"
      },
      "source": [
        "\"AC2\" in games_set"
      ],
      "execution_count": 8,
      "outputs": [
        {
          "output_type": "execute_result",
          "data": {
            "text/plain": [
              "False"
            ]
          },
          "metadata": {
            "tags": []
          },
          "execution_count": 8
        }
      ]
    },
    {
      "cell_type": "code",
      "metadata": {
        "id": "cpA9CPVclHpb",
        "colab_type": "code",
        "colab": {
          "base_uri": "https://localhost:8080/",
          "height": 34
        },
        "outputId": "ef46356f-eb01-46f8-ee71-6f803fd99c9a"
      },
      "source": [
        "games_set.add (\"Dishonored\")\n",
        "print(games_set)"
      ],
      "execution_count": 10,
      "outputs": [
        {
          "output_type": "stream",
          "text": [
            "{'Hosts', 'HS', 'Gwent', 'Dishonored', 'Wolf Among US'}\n"
          ],
          "name": "stdout"
        }
      ]
    },
    {
      "cell_type": "code",
      "metadata": {
        "id": "z8deOT7PlUDq",
        "colab_type": "code",
        "colab": {
          "base_uri": "https://localhost:8080/",
          "height": 34
        },
        "outputId": "0469094a-5668-4987-ab5c-ce53089eb929"
      },
      "source": [
        "karcianki_set = set([\"Gwent\", \"HS\"])\n",
        "print(karcianki_set)"
      ],
      "execution_count": 14,
      "outputs": [
        {
          "output_type": "stream",
          "text": [
            "{'HS', 'Gwent'}\n"
          ],
          "name": "stdout"
        }
      ]
    },
    {
      "cell_type": "code",
      "metadata": {
        "id": "CJzF8_ynlwTe",
        "colab_type": "code",
        "colab": {
          "base_uri": "https://localhost:8080/",
          "height": 34
        },
        "outputId": "cf8b115a-84e9-4541-8d92-3c77a7456585"
      },
      "source": [
        "karcianki_set.issuperset(games_set)"
      ],
      "execution_count": 15,
      "outputs": [
        {
          "output_type": "execute_result",
          "data": {
            "text/plain": [
              "False"
            ]
          },
          "metadata": {
            "tags": []
          },
          "execution_count": 15
        }
      ]
    },
    {
      "cell_type": "code",
      "metadata": {
        "id": "nudbDXu-mCQR",
        "colab_type": "code",
        "colab": {
          "base_uri": "https://localhost:8080/",
          "height": 34
        },
        "outputId": "10172b80-b291-4460-cc42-2a7fd3571f2a"
      },
      "source": [
        "games_set.issuperset(karcianki_set)"
      ],
      "execution_count": 16,
      "outputs": [
        {
          "output_type": "execute_result",
          "data": {
            "text/plain": [
              "True"
            ]
          },
          "metadata": {
            "tags": []
          },
          "execution_count": 16
        }
      ]
    },
    {
      "cell_type": "markdown",
      "metadata": {
        "id": "pz0OeyWGotv6",
        "colab_type": "text"
      },
      "source": [
        "#Zadanie2 ze słowników "
      ]
    },
    {
      "cell_type": "code",
      "metadata": {
        "id": "j-buwQPOozcs",
        "colab_type": "code",
        "colab": {
          "base_uri": "https://localhost:8080/",
          "height": 54
        },
        "outputId": "b7bad4d2-4cef-4edd-a42b-9b59753bc0b1"
      },
      "source": [
        "HP_books_1ed_dict = {\"1997\":\"The Philosopher's Stone\", \"1998\":\"The Chamber of Secrets\", \"1999\":\"The Prisoner of Azkaban\", \"2000\":\"The Goblet of Fire\", \"2003\":\"The Order of the Phoenix\", \"2005\":\"The Half-Blood Prince\", \"2007\":\"The Deathly Hallows\"}\n",
        "print(HP_books_1ed_dict)"
      ],
      "execution_count": 17,
      "outputs": [
        {
          "output_type": "stream",
          "text": [
            "{'1997': \"The Philosopher's Stone\", '1998': 'The Chamber of Secrets', '1999': 'The Prisoner of Azkaban', '2000': 'The Goblet of Fire', '2003': 'The Order of the Phoenix', '2005': 'The Half-Blood Prince', '2007': 'The Deathly Hallows'}\n"
          ],
          "name": "stdout"
        }
      ]
    },
    {
      "cell_type": "code",
      "metadata": {
        "id": "ray0wyUftQAW",
        "colab_type": "code",
        "colab": {
          "base_uri": "https://localhost:8080/",
          "height": 54
        },
        "outputId": "e81bb563-f890-4b85-9617-adb35cc0db26"
      },
      "source": [
        "HP_books_1ed_dict[\"2001\"] = \"Fantastic Beasts and Where to Find Them\"\n",
        "print(HP_books_1ed_dict)"
      ],
      "execution_count": 18,
      "outputs": [
        {
          "output_type": "stream",
          "text": [
            "{'1997': \"The Philosopher's Stone\", '1998': 'The Chamber of Secrets', '1999': 'The Prisoner of Azkaban', '2000': 'The Goblet of Fire', '2003': 'The Order of the Phoenix', '2005': 'The Half-Blood Prince', '2007': 'The Deathly Hallows', '2001': 'Fantastic Beasts and Where to Find Them'}\n"
          ],
          "name": "stdout"
        }
      ]
    },
    {
      "cell_type": "code",
      "metadata": {
        "id": "oooy4dFxtzKW",
        "colab_type": "code",
        "colab": {
          "base_uri": "https://localhost:8080/",
          "height": 34
        },
        "outputId": "5529af41-565c-44cc-9059-60b489e29504"
      },
      "source": [
        "HP_books_1ed_dict.keys()"
      ],
      "execution_count": 31,
      "outputs": [
        {
          "output_type": "execute_result",
          "data": {
            "text/plain": [
              "dict_keys(['1997', '1998', '1999', '2000', '2003', '2005', '2007', '2001'])"
            ]
          },
          "metadata": {
            "tags": []
          },
          "execution_count": 31
        }
      ]
    },
    {
      "cell_type": "code",
      "metadata": {
        "id": "-vN0l8R3uPTE",
        "colab_type": "code",
        "colab": {
          "base_uri": "https://localhost:8080/",
          "height": 54
        },
        "outputId": "2f984d67-b09f-47f2-c18c-37616c85fb98"
      },
      "source": [
        "HP_books_1ed_dict.values()"
      ],
      "execution_count": 34,
      "outputs": [
        {
          "output_type": "execute_result",
          "data": {
            "text/plain": [
              "dict_values([\"The Philosopher's Stone\", 'The Chamber of Secrets', 'The Prisoner of Azkaban', 'The Goblet of Fire', 'The Order of the Phoenix', 'The Half-Blood Prince', 'The Deathly Hallows', 'Fantastic Beasts and Where to Find Them'])"
            ]
          },
          "metadata": {
            "tags": []
          },
          "execution_count": 34
        }
      ]
    },
    {
      "cell_type": "code",
      "metadata": {
        "id": "xz0uu83SwNNk",
        "colab_type": "code",
        "colab": {
          "base_uri": "https://localhost:8080/",
          "height": 34
        },
        "outputId": "f817f7f2-3ede-4fea-9d2c-6364eea42c64"
      },
      "source": [
        "nazwa_wartosci = \"The Goblet of Fire\"\n",
        "kod_filmu = [key for key, value in HP_books_1ed_dict.items() if value == nazwa_wartosci][0]\n",
        "print(\"to jest poszukiwany kod filmu (rok):\", kod_filmu)"
      ],
      "execution_count": 49,
      "outputs": [
        {
          "output_type": "stream",
          "text": [
            "to jest poszukiwany kod filmu (rok): 2000\n"
          ],
          "name": "stdout"
        }
      ]
    },
    {
      "cell_type": "code",
      "metadata": {
        "id": "2T6QC4t9xf2w",
        "colab_type": "code",
        "colab": {
          "base_uri": "https://localhost:8080/",
          "height": 223
        },
        "outputId": "10b3f1f0-6e77-4426-e18a-44a46f2d0536"
      },
      "source": [
        "rok_filmu = \"1999\"\n",
        "tytul_filmu = [value for value, key in HP_books_1ed_dict.items() if key == rok_filmu][0]\n",
        "print(\"To jest tytuł filmu (watrość):\", tytul_filmu)"
      ],
      "execution_count": 55,
      "outputs": [
        {
          "output_type": "error",
          "ename": "IndexError",
          "evalue": "ignored",
          "traceback": [
            "\u001b[0;31m---------------------------------------------------------------------------\u001b[0m",
            "\u001b[0;31mIndexError\u001b[0m                                Traceback (most recent call last)",
            "\u001b[0;32m<ipython-input-55-32174aa9d9f5>\u001b[0m in \u001b[0;36m<module>\u001b[0;34m()\u001b[0m\n\u001b[1;32m      1\u001b[0m \u001b[0mrok_filmu\u001b[0m \u001b[0;34m=\u001b[0m \u001b[0;34m\"1999\"\u001b[0m\u001b[0;34m\u001b[0m\u001b[0;34m\u001b[0m\u001b[0m\n\u001b[0;32m----> 2\u001b[0;31m \u001b[0mtytul_filmu\u001b[0m \u001b[0;34m=\u001b[0m \u001b[0;34m[\u001b[0m\u001b[0mvalue\u001b[0m \u001b[0;32mfor\u001b[0m \u001b[0mvalue\u001b[0m\u001b[0;34m,\u001b[0m \u001b[0mkey\u001b[0m \u001b[0;32min\u001b[0m \u001b[0mHP_books_1ed_dict\u001b[0m\u001b[0;34m.\u001b[0m\u001b[0mitems\u001b[0m\u001b[0;34m(\u001b[0m\u001b[0;34m)\u001b[0m \u001b[0;32mif\u001b[0m \u001b[0mkey\u001b[0m \u001b[0;34m==\u001b[0m \u001b[0mrok_filmu\u001b[0m\u001b[0;34m]\u001b[0m\u001b[0;34m[\u001b[0m\u001b[0;36m0\u001b[0m\u001b[0;34m]\u001b[0m\u001b[0;34m\u001b[0m\u001b[0;34m\u001b[0m\u001b[0m\n\u001b[0m\u001b[1;32m      3\u001b[0m \u001b[0mprint\u001b[0m\u001b[0;34m(\u001b[0m\u001b[0;34m\"To jest tytuł filmu (watrość):\"\u001b[0m\u001b[0;34m,\u001b[0m \u001b[0mtytul_filmu\u001b[0m\u001b[0;34m)\u001b[0m\u001b[0;34m\u001b[0m\u001b[0;34m\u001b[0m\u001b[0m\n",
            "\u001b[0;31mIndexError\u001b[0m: list index out of range"
          ]
        }
      ]
    },
    {
      "cell_type": "code",
      "metadata": {
        "id": "fAtdxtdx3k2d",
        "colab_type": "code",
        "colab": {}
      },
      "source": [
        ""
      ],
      "execution_count": 0,
      "outputs": []
    }
  ]
}